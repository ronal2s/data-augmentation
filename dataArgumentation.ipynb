{
 "cells": [
  {
   "cell_type": "code",
   "execution_count": 3,
   "metadata": {},
   "outputs": [],
   "source": [
    "import os\r\n",
    "import numpy as np\r\n",
    "import cv2\r\n",
    "from keras.preprocessing.image import ImageDataGenerator, load_img, image, img_to_array\r\n"
   ]
  },
  {
   "cell_type": "markdown",
   "metadata": {},
   "source": [
    "# Crear carpeta llamado DG_DATA y definir las imágenes que vamos a generar"
   ]
  },
  {
   "cell_type": "code",
   "execution_count": 10,
   "metadata": {},
   "outputs": [
    {
     "name": "stdout",
     "output_type": "stream",
     "text": [
      "Folder DG_DATAalready exists\n"
     ]
    }
   ],
   "source": [
    "DG_FOLDER = \"DG_DATA\"\r\n",
    "images_increased = 5\r\n",
    "try:\r\n",
    "    os.mkdir(DG_FOLDER)\r\n",
    "except:\r\n",
    "    print(\"Folder \" + DG_FOLDER + \"already exists\")"
   ]
  },
  {
   "cell_type": "markdown",
   "metadata": {},
   "source": [
    "# Configurar el generador de imágenes de Keras"
   ]
  },
  {
   "cell_type": "code",
   "execution_count": 14,
   "metadata": {},
   "outputs": [],
   "source": [
    "train_datagen = ImageDataGenerator(\r\n",
    "    #Rotarlo +20 o -20 grados\r\n",
    "    rotation_range=20, \r\n",
    "    #Zoom +20% o -20%\r\n",
    "    zoom_range=0.2,\r\n",
    "    #Fraccionar la imagen +10% o -10%\r\n",
    "    width_shift_range=0.1,\r\n",
    "    height_shift_range=0.1,\r\n",
    "    #Invertir la imagen\r\n",
    "    horizontal_flip=True,\r\n",
    "    vertical_flip=False\r\n",
    ")\r\n",
    "\r\n",
    "data_path = \"./output/train/altavoces\"\r\n",
    "data_dir_list = os.listdir(data_path)\r\n",
    "\r\n",
    "width_shape, height_shape = 224, 244"
   ]
  },
  {
   "cell_type": "markdown",
   "metadata": {},
   "source": [
    "# Generar imágenes"
   ]
  },
  {
   "cell_type": "code",
   "execution_count": 16,
   "metadata": {},
   "outputs": [
    {
     "name": "stdout",
     "output_type": "stream",
     "text": [
      "images generated 420\n"
     ]
    }
   ],
   "source": [
    "i = 0\r\n",
    "num_images=0\r\n",
    "for image_file in data_dir_list:\r\n",
    "    img_list = os.listdir(data_path)\r\n",
    "    img_path = data_path + \"/\" + image_file\r\n",
    "    \r\n",
    "    imge = load_img(img_path)\r\n",
    "    imge = cv2.resize(image.img_to_array(imge), (width_shape, height_shape), interpolation=cv2.INTER_AREA)\r\n",
    "\r\n",
    "    x = imge/255\r\n",
    "    x = np.expand_dims(x, axis=0)\r\n",
    "    t=1\r\n",
    "\r\n",
    "    for output_batch in train_datagen.flow(x, batch_size=1):\r\n",
    "        a = image.img_to_array(output_batch[0])\r\n",
    "        imagen = output_batch[0,:,:]*255\r\n",
    "        imgfinal = cv2.cvtColor(imagen, cv2.COLOR_BGR2RGB)\r\n",
    "        cv2.imwrite(DG_FOLDER + \"/%i%i.jpg\"%(i, t), imgfinal)\r\n",
    "        t+=1\r\n",
    "\r\n",
    "        num_images += 1\r\n",
    "        if t > images_increased:\r\n",
    "            break\r\n",
    "    i+=1\r\n",
    "print(\"images generated\", num_images)\r\n",
    "\r\n"
   ]
  },
  {
   "cell_type": "code",
   "execution_count": null,
   "metadata": {},
   "outputs": [],
   "source": []
  }
 ],
 "metadata": {
  "interpreter": {
   "hash": "485035c5b2a6f2b50dc2dc5ca51aeeb931032fbc9adc2e30c7c528d6bf8a9176"
  },
  "kernelspec": {
   "display_name": "Python 3.8.8 64-bit ('base': conda)",
   "name": "python3"
  },
  "language_info": {
   "codemirror_mode": {
    "name": "ipython",
    "version": 3
   },
   "file_extension": ".py",
   "mimetype": "text/x-python",
   "name": "python",
   "nbconvert_exporter": "python",
   "pygments_lexer": "ipython3",
   "version": "3.8.8"
  }
 },
 "nbformat": 4,
 "nbformat_minor": 5
}