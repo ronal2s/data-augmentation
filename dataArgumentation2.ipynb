{
 "metadata": {
  "language_info": {
   "codemirror_mode": {
    "name": "ipython",
    "version": 3
   },
   "file_extension": ".py",
   "mimetype": "text/x-python",
   "name": "python",
   "nbconvert_exporter": "python",
   "pygments_lexer": "ipython3",
   "version": "3.8.8"
  },
  "orig_nbformat": 4,
  "kernelspec": {
   "name": "python3",
   "display_name": "Python 3.8.8 64-bit ('base': conda)"
  },
  "interpreter": {
   "hash": "dca0ade3e726a953b501b15e8e990130d2b7799f14cfd9f4271676035ebe5511"
  }
 },
 "nbformat": 4,
 "nbformat_minor": 2,
 "cells": [
  {
   "source": [
    "# Importing libraries"
   ],
   "cell_type": "markdown",
   "metadata": {}
  },
  {
   "cell_type": "code",
   "execution_count": 19,
   "metadata": {},
   "outputs": [],
   "source": [
    "import tensorflow as tf\n",
    "from keras.preprocessing.image import save_img\n",
    "from keras.preprocessing.image import ImageDataGenerator, image\n",
    "import numpy as np\n",
    "import cv2\n",
    "from skimage.util import random_noise\n",
    "import os\n",
    "from my_functions import show_image, createFolder\n",
    "# import my_functions"
   ]
  },
  {
   "source": [
    "# Configurar el generador de imágenes de Keras"
   ],
   "cell_type": "markdown",
   "metadata": {}
  },
  {
   "cell_type": "code",
   "execution_count": 15,
   "metadata": {},
   "outputs": [],
   "source": [
    "train_datagen = ImageDataGenerator(\n",
    "    #Rotarlo +20 o -20 grados\n",
    "    rotation_range=20, \n",
    "    #Zoom +20% o -20%\n",
    "    zoom_range=0.2,\n",
    "    #Fraccionar la imagen +10% o -10%\n",
    "    width_shift_range=0.1,\n",
    "    height_shift_range=0.1,\n",
    "    #Invertir la imagen\n",
    "    horizontal_flip=True,\n",
    "    vertical_flip=False\n",
    ")\n",
    "width_shape, height_shape = 224, 244\n",
    "images_increased = 5\n",
    "# x = imge/255\n",
    "# x = np.expand_dims(x, axis=0)"
   ]
  },
  {
   "source": [
    "# Creating object of output/train "
   ],
   "cell_type": "markdown",
   "metadata": {}
  },
  {
   "cell_type": "code",
   "execution_count": 16,
   "metadata": {
    "tags": []
   },
   "outputs": [],
   "source": [
    "root_folder = 'output/train'\n",
    "pictures_object = {}\n",
    "for folder in os.listdir(os.path.join(os.getcwd(),root_folder)):\n",
    "    pictures_object[folder] = []\n",
    "    path_pictures = root_folder + '/'+folder\n",
    "    for file in os.listdir(os.path.join(os.getcwd(), path_pictures)):\n",
    "        pictures_object[folder].append(path_pictures+'/' +file)\n",
    "\n",
    "# print('Folders: ', pictures_object.keys())\n",
    "# print('Pictures of folder television: ', pictures_object['television'])"
   ]
  },
  {
   "source": [
    "# Create folder to save data augumentation 2 "
   ],
   "cell_type": "markdown",
   "metadata": {}
  },
  {
   "cell_type": "code",
   "execution_count": 17,
   "metadata": {},
   "outputs": [],
   "source": [
    "DG_DATA2_FOLDER = 'DG_DATA2'\n",
    "createFolder(DG_DATA2_FOLDER)"
   ]
  },
  {
   "source": [
    "# Adjust saturation of all pictures"
   ],
   "cell_type": "markdown",
   "metadata": {}
  },
  {
   "cell_type": "code",
   "execution_count": 25,
   "metadata": {
    "tags": []
   },
   "outputs": [
    {
     "output_type": "stream",
     "name": "stdout",
     "text": [
      "All the pictures has been saved\nTotal pictures:  6116\n"
     ]
    }
   ],
   "source": [
    "i = 0\n",
    "num_images = 0\n",
    "for folder in pictures_object.keys():\n",
    "    i=0\n",
    "    j = 1\n",
    "    for picture_url in pictures_object[folder]:\n",
    "        image_string = tf.io.read_file(picture_url, name=None)\n",
    "        imageOriginal = tf.image.decode_jpeg(image_string,channels=3)\n",
    "        \n",
    "        picture_folder = '%s/%s'%(DG_DATA2_FOLDER, folder)\n",
    "        createFolder(picture_folder)\n",
    "\n",
    "        #Saturation picture\n",
    "        satu_image = tf.image.adjust_saturation(imageOriginal, 5)\n",
    "        #Hue picture\n",
    "        hue_image = tf.image.adjust_hue(imageOriginal, delta=0.4)\n",
    "        #Contrast\n",
    "        contrast_image = tf.image.adjust_contrast(images=imageOriginal, contrast_factor=0.6)\n",
    "        #Brightness\n",
    "        bright_image = tf.image.adjust_brightness(imageOriginal, 0.2)\n",
    "        #Grayscale\n",
    "        gray_image = tf.image.rgb_to_grayscale(imageOriginal)\n",
    "        #Noise\n",
    "        image_array = np.asarray(imageOriginal)\n",
    "        noise_image = random_noise(image_array, mode=\"gaussian\", var=0.1)\n",
    "\n",
    "\n",
    "        \n",
    "        # Save saturation picture\n",
    "        save_image_path = '%s/%s/%i%i.jpg'%(DG_DATA2_FOLDER, folder, i, j)\n",
    "        save_img(save_image_path, satu_image)\n",
    "        j+=1\n",
    "        num_images+=1\n",
    "\n",
    "        # Save hue picture\n",
    "        save_image_path = '%s/%s/%i%i.jpg'%(DG_DATA2_FOLDER, folder, i, j)\n",
    "        save_img(save_image_path, hue_image)\n",
    "        j+=1\n",
    "        num_images+=1\n",
    "\n",
    "        # Save contrast picture\n",
    "        save_image_path = '%s/%s/%i%i.jpg'%(DG_DATA2_FOLDER, folder, i, j)\n",
    "        save_img(save_image_path, contrast_image)\n",
    "        j+=1\n",
    "        num_images+=1\n",
    "\n",
    "        # Save brightness picture\n",
    "        save_image_path = '%s/%s/%i%i.jpg'%(DG_DATA2_FOLDER, folder, i, j)\n",
    "        save_img(save_image_path, bright_image)\n",
    "        j+=1\n",
    "        num_images+=1\n",
    "\n",
    "        # Save grayscale picture\n",
    "        save_image_path = '%s/%s/%i%i.jpg'%(DG_DATA2_FOLDER, folder, i, j)\n",
    "        save_img(save_image_path, gray_image)\n",
    "        j+=1\n",
    "        num_images+=1\n",
    "\n",
    "        # Save noise picture\n",
    "        save_image_path = '%s/%s/%i%i.jpg'%(DG_DATA2_FOLDER, folder, i, j)\n",
    "        save_img(save_image_path, noise_image)\n",
    "        j+=1\n",
    "        num_images+=1\n",
    "\n",
    "        #ImageGenerator, zooming, zoomout, rotation, etc\n",
    "        x = imageOriginal/255\n",
    "        x = np.expand_dims(x, axis=0)\n",
    "        images_generated = 1\n",
    "        for output_batch in train_datagen.flow(x, batch_size=1):\n",
    "            a = image.img_to_array(output_batch[0])\n",
    "            save_image_path = '%s/%s/%i%i.jpg'%(DG_DATA2_FOLDER, folder, i, j)\n",
    "            imagen = output_batch[0,:,:]*255\n",
    "            imgfinal = cv2.cvtColor(imagen, cv2.COLOR_BGR2RGB)\n",
    "            save_img(save_image_path, imgfinal)\n",
    "            images_generated +=1\n",
    "            \n",
    "            j+=1\n",
    "            num_images+=1\n",
    "\n",
    "            if images_generated > images_increased:\n",
    "                break\n",
    "        \n",
    "        \n",
    "    i+=1\n",
    "print('All the pictures has been saved') \n",
    "print('Total pictures: ', num_images)\n",
    "        "
   ]
  },
  {
   "cell_type": "code",
   "execution_count": null,
   "metadata": {},
   "outputs": [],
   "source": []
  }
 ]
}