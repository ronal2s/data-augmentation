{
 "metadata": {
  "language_info": {
   "codemirror_mode": {
    "name": "ipython",
    "version": 3
   },
   "file_extension": ".py",
   "mimetype": "text/x-python",
   "name": "python",
   "nbconvert_exporter": "python",
   "pygments_lexer": "ipython3",
   "version": "3.8.8"
  },
  "orig_nbformat": 4,
  "kernelspec": {
   "name": "python3",
   "display_name": "Python 3.8.8 64-bit ('base': conda)"
  },
  "interpreter": {
   "hash": "dca0ade3e726a953b501b15e8e990130d2b7799f14cfd9f4271676035ebe5511"
  }
 },
 "nbformat": 4,
 "nbformat_minor": 2,
 "cells": [
  {
   "source": [
    "# Importing libraries"
   ],
   "cell_type": "markdown",
   "metadata": {}
  },
  {
   "cell_type": "code",
   "execution_count": 25,
   "metadata": {},
   "outputs": [],
   "source": [
    "import tensorflow as tf\n",
    "from keras.preprocessing.image import save_img\n",
    "import numpy as np\n",
    "from skimage.util import random_noise\n",
    "import os\n",
    "from my_functions import show_image, createFolder\n",
    "# import my_functions"
   ]
  },
  {
   "source": [
    "# Creating object of output/train "
   ],
   "cell_type": "markdown",
   "metadata": {}
  },
  {
   "cell_type": "code",
   "execution_count": 12,
   "metadata": {
    "tags": []
   },
   "outputs": [],
   "source": [
    "root_folder = 'output/train'\n",
    "pictures_object = {}\n",
    "for folder in os.listdir(os.path.join(os.getcwd(),root_folder)):\n",
    "    pictures_object[folder] = []\n",
    "    path_pictures = root_folder + '/'+folder\n",
    "    for file in os.listdir(os.path.join(os.getcwd(), path_pictures)):\n",
    "        pictures_object[folder].append(path_pictures+'/' +file)\n",
    "\n",
    "# print('Folders: ', pictures_object.keys())\n",
    "# print('Pictures of folder television: ', pictures_object['television'])"
   ]
  },
  {
   "source": [
    "# Create folder to save data augumentation 2 "
   ],
   "cell_type": "markdown",
   "metadata": {}
  },
  {
   "cell_type": "code",
   "execution_count": 13,
   "metadata": {},
   "outputs": [],
   "source": [
    "DG_DATA2_FOLDER = 'DG_DATA2'\n",
    "createFolder(DG_DATA2_FOLDER)"
   ]
  },
  {
   "source": [
    "# Adjust saturation of all pictures"
   ],
   "cell_type": "markdown",
   "metadata": {}
  },
  {
   "cell_type": "code",
   "execution_count": 26,
   "metadata": {
    "tags": []
   },
   "outputs": [
    {
     "output_type": "stream",
     "name": "stdout",
     "text": [
      "All the pictures has been saved\nTotal pictures:  3336\n"
     ]
    }
   ],
   "source": [
    "i = 0\n",
    "num_images = 0\n",
    "for folder in pictures_object.keys():\n",
    "    i=0\n",
    "    j = 1\n",
    "    for picture_url in pictures_object[folder]:\n",
    "        image_string = tf.io.read_file(picture_url, name=None)\n",
    "        image = tf.image.decode_jpeg(image_string,channels=3)\n",
    "        \n",
    "        picture_folder = '%s/%s'%(DG_DATA2_FOLDER, folder)\n",
    "        createFolder(picture_folder)\n",
    "\n",
    "        #Saturation picture\n",
    "        satu_image = tf.image.adjust_saturation(image, 5)\n",
    "        #Hue picture\n",
    "        hue_image = tf.image.adjust_hue(image, delta=0.4)\n",
    "        #Contrast\n",
    "        contrast_image = tf.image.adjust_contrast(images=image, contrast_factor=0.6)\n",
    "        #Brightness\n",
    "        bright_image = tf.image.adjust_brightness(image, 0.2)\n",
    "        #Grayscale\n",
    "        gray_image = tf.image.rgb_to_grayscale(image)\n",
    "        #Noise\n",
    "        image_array = np.asarray(image)\n",
    "        noise_image = random_noise(image_array, mode=\"gaussian\", var=0.1)\n",
    "\n",
    "\n",
    "        \n",
    "        # Save saturation picture\n",
    "        save_image_path = '%s/%s/%i%i.jpg'%(DG_DATA2_FOLDER, folder, i, j)\n",
    "        save_img(save_image_path, satu_image)\n",
    "        j+=1\n",
    "        num_images+=1\n",
    "\n",
    "        # Save hue picture\n",
    "        save_image_path = '%s/%s/%i%i.jpg'%(DG_DATA2_FOLDER, folder, i, j)\n",
    "        save_img(save_image_path, hue_image)\n",
    "        j+=1\n",
    "        num_images+=1\n",
    "\n",
    "        # Save contrast picture\n",
    "        save_image_path = '%s/%s/%i%i.jpg'%(DG_DATA2_FOLDER, folder, i, j)\n",
    "        save_img(save_image_path, contrast_image)\n",
    "        j+=1\n",
    "        num_images+=1\n",
    "\n",
    "        # Save brightness picture\n",
    "        save_image_path = '%s/%s/%i%i.jpg'%(DG_DATA2_FOLDER, folder, i, j)\n",
    "        save_img(save_image_path, bright_image)\n",
    "        j+=1\n",
    "        num_images+=1\n",
    "\n",
    "        # Save grayscale picture\n",
    "        save_image_path = '%s/%s/%i%i.jpg'%(DG_DATA2_FOLDER, folder, i, j)\n",
    "        save_img(save_image_path, gray_image)\n",
    "        j+=1\n",
    "        num_images+=1\n",
    "\n",
    "        # Save noise picture\n",
    "        save_image_path = '%s/%s/%i%i.jpg'%(DG_DATA2_FOLDER, folder, i, j)\n",
    "        save_img(save_image_path, noise_image)\n",
    "        j+=1\n",
    "        num_images+=1\n",
    "        \n",
    "        \n",
    "    i+=1\n",
    "print('All the pictures has been saved') \n",
    "print('Total pictures: ', num_images)\n",
    "        "
   ]
  },
  {
   "cell_type": "code",
   "execution_count": null,
   "metadata": {},
   "outputs": [],
   "source": []
  }
 ]
}